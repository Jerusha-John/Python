{
 "cells": [
  {
   "cell_type": "code",
   "execution_count": 1,
   "id": "61bec271",
   "metadata": {},
   "outputs": [
    {
     "name": "stdout",
     "output_type": "stream",
     "text": [
      "{'a': 1, 'b': 2, 'c': 3}\n"
     ]
    }
   ],
   "source": [
    "thisdict = {\"a\":1,\"b\":2,\"c\":3}\n",
    "print(thisdict)"
   ]
  },
  {
   "cell_type": "code",
   "execution_count": 5,
   "id": "308f808d",
   "metadata": {},
   "outputs": [
    {
     "name": "stdout",
     "output_type": "stream",
     "text": [
      "{'a': 1, 'b': 2, 'c': 3, 'C': 4}\n"
     ]
    }
   ],
   "source": [
    "thisdict = {\"a\":1,\"b\":2,\"c\":3,\"C\":4}\n",
    "print(thisdict)"
   ]
  },
  {
   "cell_type": "code",
   "execution_count": 6,
   "id": "afa4b638",
   "metadata": {},
   "outputs": [
    {
     "name": "stdout",
     "output_type": "stream",
     "text": [
      "4\n"
     ]
    }
   ],
   "source": [
    "print(len(thisdict))"
   ]
  },
  {
   "cell_type": "code",
   "execution_count": 7,
   "id": "7b90f8c9",
   "metadata": {},
   "outputs": [
    {
     "name": "stdout",
     "output_type": "stream",
     "text": [
      "{'a': 'Jerusha', 'b': 'Ann', 'c': 'John'}\n"
     ]
    }
   ],
   "source": [
    "namedict = {\"a\":\"Jerusha\",\"b\":\"Ann\",\"c\":\"John\"}\n",
    "print(namedict)"
   ]
  },
  {
   "cell_type": "code",
   "execution_count": 8,
   "id": "b253589f",
   "metadata": {},
   "outputs": [
    {
     "name": "stdout",
     "output_type": "stream",
     "text": [
      "<class 'dict'>\n"
     ]
    }
   ],
   "source": [
    "print(type(namedict))"
   ]
  },
  {
   "cell_type": "code",
   "execution_count": 11,
   "id": "04bdd4b2",
   "metadata": {},
   "outputs": [
    {
     "name": "stdout",
     "output_type": "stream",
     "text": [
      "{'brand': ['Ford', 'Suzuki', 'Nissan'], 'model': ['Mustang', 'Swift', 'Micra'], 'price': [360000, 740000, 530000]}\n"
     ]
    }
   ],
   "source": [
    "aDict = {\"brand\":[\"Ford\",\"Suzuki\",\"Nissan\"],\"model\":[\"Mustang\",\"Swift\",\"Micra\"],\"price\":[360000,740000,530000]}\n",
    "print(aDict)"
   ]
  },
  {
   "cell_type": "code",
   "execution_count": 12,
   "id": "edbcf30f",
   "metadata": {},
   "outputs": [
    {
     "name": "stdout",
     "output_type": "stream",
     "text": [
      "{'name': 'John', 'age': 36, 'country': 'Norway'}\n"
     ]
    }
   ],
   "source": [
    "#using dict() method to make a dictionary\n",
    "newdict = dict(name = \"John\", age = 36, country = \"Norway\")\n",
    "print(newdict)"
   ]
  },
  {
   "cell_type": "code",
   "execution_count": 13,
   "id": "1cf6f853",
   "metadata": {},
   "outputs": [
    {
     "name": "stdout",
     "output_type": "stream",
     "text": [
      "['Mustang', 'Swift', 'Micra']\n"
     ]
    }
   ],
   "source": [
    "print(aDict[\"model\"])"
   ]
  },
  {
   "cell_type": "code",
   "execution_count": 16,
   "id": "c6c97e8b",
   "metadata": {},
   "outputs": [
    {
     "name": "stdout",
     "output_type": "stream",
     "text": [
      "['Mustang', 'Swift', 'Micra']\n"
     ]
    }
   ],
   "source": [
    "#get() method can also be used to access the values from the dictionary\n",
    "print(aDict.get(\"model\"))"
   ]
  },
  {
   "cell_type": "code",
   "execution_count": 17,
   "id": "44739ffa",
   "metadata": {},
   "outputs": [
    {
     "name": "stdout",
     "output_type": "stream",
     "text": [
      "dict_values([['Ford', 'Suzuki', 'Nissan'], ['Mustang', 'Swift', 'Micra'], [360000, 740000, 530000]])\n"
     ]
    }
   ],
   "source": [
    "#to access the values of the dictionary---return lists of lists\n",
    "print(aDict.values())"
   ]
  },
  {
   "cell_type": "code",
   "execution_count": 18,
   "id": "35e40995",
   "metadata": {},
   "outputs": [
    {
     "name": "stdout",
     "output_type": "stream",
     "text": [
      "dict_keys(['brand', 'model', 'price'])\n"
     ]
    }
   ],
   "source": [
    "#to access the keys of the dictionary----returns list\n",
    "print(aDict.keys())"
   ]
  },
  {
   "cell_type": "code",
   "execution_count": 19,
   "id": "b067b004",
   "metadata": {},
   "outputs": [
    {
     "name": "stdout",
     "output_type": "stream",
     "text": [
      "dict_items([('brand', ['Ford', 'Suzuki', 'Nissan']), ('model', ['Mustang', 'Swift', 'Micra']), ('price', [360000, 740000, 530000])])\n"
     ]
    }
   ],
   "source": [
    "#items() returns the key:value pair\n",
    "print(aDict.items())"
   ]
  },
  {
   "cell_type": "code",
   "execution_count": 20,
   "id": "5a692c21",
   "metadata": {},
   "outputs": [
    {
     "name": "stdout",
     "output_type": "stream",
     "text": [
      "exist\n"
     ]
    }
   ],
   "source": [
    "if \"price\" in aDict:\n",
    "    print(\"exists\")"
   ]
  },
  {
   "cell_type": "code",
   "execution_count": 22,
   "id": "9d85a3dc",
   "metadata": {},
   "outputs": [
    {
     "name": "stdout",
     "output_type": "stream",
     "text": [
      "not exists\n"
     ]
    }
   ],
   "source": [
    "if \"Model\" in aDict:\n",
    "    print(\"exists\")\n",
    "else:\n",
    "    print(\"not exists\")"
   ]
  },
  {
   "cell_type": "code",
   "execution_count": 31,
   "id": "ed7fb3f8",
   "metadata": {},
   "outputs": [
    {
     "name": "stdout",
     "output_type": "stream",
     "text": [
      "{'Details': False}\n"
     ]
    }
   ],
   "source": [
    "newDict = {\"Details\":[\"Jerusha\",23,49.3,{None,5+5j}]==True}\n",
    "print(newDict)"
   ]
  },
  {
   "cell_type": "code",
   "execution_count": 37,
   "id": "7f41959e",
   "metadata": {},
   "outputs": [
    {
     "name": "stdout",
     "output_type": "stream",
     "text": [
      "{'a': 1, 'b': 5, 'c': 3, 'C': 4}\n"
     ]
    }
   ],
   "source": [
    "thisdict = {\"a\":1,\"b\":2,\"c\":3,\"C\":4}\n",
    "thisdict[\"b\"]=5\n",
    "print(thisdict)"
   ]
  },
  {
   "cell_type": "code",
   "execution_count": 39,
   "id": "7a557eb1",
   "metadata": {},
   "outputs": [
    {
     "name": "stdout",
     "output_type": "stream",
     "text": [
      "{'a': 1, 'b': 5, 'c': 7, 'C': 4}\n"
     ]
    }
   ],
   "source": [
    "thisdict.update({\"c\":7})\n",
    "print(thisdict)"
   ]
  },
  {
   "cell_type": "code",
   "execution_count": 44,
   "id": "11aadcb8",
   "metadata": {},
   "outputs": [
    {
     "name": "stdout",
     "output_type": "stream",
     "text": [
      "{'brand': ['Ford', 'Suzuki', 'Nissan'], 'model': ['Mustang', 'Swift', 'Micra'], 'price': [360000, 740000, 530000], 'price[0]': 700000}\n"
     ]
    }
   ],
   "source": [
    "aDict = {\"brand\":[\"Ford\",\"Suzuki\",\"Nissan\"],\"model\":[\"Mustang\",\"Swift\",\"Micra\"],\"price\":[360000,740000,530000]}\n",
    "aDict.update({\"price[0]\":700000})\n",
    "print(aDict)"
   ]
  },
  {
   "cell_type": "code",
   "execution_count": 45,
   "id": "3b7380e8",
   "metadata": {},
   "outputs": [
    {
     "name": "stdout",
     "output_type": "stream",
     "text": [
      "{'brand': ['Ford', 'Suzuki', 'Nissan'], 'model': ['Mustang', 'Swift', 'Micra'], 'price': [700000, 740000, 530000]}\n"
     ]
    }
   ],
   "source": [
    "#change the first value in a list which is inside a dictionary\n",
    "aDict = {\"brand\":[\"Ford\",\"Suzuki\",\"Nissan\"],\"model\":[\"Mustang\",\"Swift\",\"Micra\"],\"price\":[360000,740000,530000]}\n",
    "aDict[\"price\"][0]=700000\n",
    "print(aDict)"
   ]
  },
  {
   "cell_type": "code",
   "execution_count": 47,
   "id": "1a2996be",
   "metadata": {},
   "outputs": [
    {
     "name": "stdout",
     "output_type": "stream",
     "text": [
      "{'brand': ['Ford', 'Suzuki', 'Nissan'], 'price': [700000, 740000, 530000]}\n"
     ]
    }
   ],
   "source": [
    "#removing the key:value pair\n",
    "aDict.pop(\"model\")\n",
    "print(aDict)"
   ]
  },
  {
   "cell_type": "code",
   "execution_count": 48,
   "id": "350ff92c",
   "metadata": {},
   "outputs": [
    {
     "name": "stdout",
     "output_type": "stream",
     "text": [
      "{'brand': ['Ford', 'Suzuki', 'Nissan']}\n"
     ]
    }
   ],
   "source": [
    "aDict.popitem()\n",
    "print(aDict)"
   ]
  },
  {
   "cell_type": "code",
   "execution_count": 56,
   "id": "435025ad",
   "metadata": {},
   "outputs": [
    {
     "name": "stdout",
     "output_type": "stream",
     "text": [
      "{'brand': ['Ford', 'Suzuki', 'Nissan'], 'model': ['Swift', 'Micra'], 'price': [360000, 740000, 530000]}\n"
     ]
    }
   ],
   "source": [
    "#removing the specified value\n",
    "aDict = {\"brand\":[\"Ford\",\"Suzuki\",\"Nissan\"],\"model\":[\"Mustang\",\"Swift\",\"Micra\"],\"price\":[360000,740000,530000]}\n",
    "del aDict[\"model\"][0]\n",
    "print(aDict)"
   ]
  },
  {
   "cell_type": "code",
   "execution_count": 57,
   "id": "04087975",
   "metadata": {},
   "outputs": [
    {
     "name": "stdout",
     "output_type": "stream",
     "text": [
      "brand\n",
      "model\n",
      "price\n"
     ]
    }
   ],
   "source": [
    "#looping in dictionaries\n",
    "for x in aDict:\n",
    "    print(x)"
   ]
  },
  {
   "cell_type": "code",
   "execution_count": 58,
   "id": "3ee4522f",
   "metadata": {},
   "outputs": [
    {
     "name": "stdout",
     "output_type": "stream",
     "text": [
      "['Ford', 'Suzuki', 'Nissan']\n",
      "['Swift', 'Micra']\n",
      "[360000, 740000, 530000]\n"
     ]
    }
   ],
   "source": [
    "for x in aDict.values():\n",
    "   print(x) "
   ]
  },
  {
   "cell_type": "code",
   "execution_count": 59,
   "id": "eac05457",
   "metadata": {},
   "outputs": [
    {
     "name": "stdout",
     "output_type": "stream",
     "text": [
      "Ford\n",
      "Suzuki\n",
      "Nissan\n"
     ]
    }
   ],
   "source": [
    "for x in aDict[\"brand\"]:\n",
    "    print(x)"
   ]
  },
  {
   "cell_type": "code",
   "execution_count": 60,
   "id": "e8b82f3a",
   "metadata": {},
   "outputs": [
    {
     "name": "stdout",
     "output_type": "stream",
     "text": [
      "{'brand': 'Ford', 'model': 'Mustang', 'year': 1964}\n"
     ]
    }
   ],
   "source": [
    "#copying dictionary\n",
    "thisdict = {\n",
    "  \"brand\": \"Ford\",\n",
    "  \"model\": \"Mustang\",\n",
    "  \"year\": 1964\n",
    "}\n",
    "mydict = thisdict.copy()\n",
    "print(mydict)"
   ]
  },
  {
   "cell_type": "code",
   "execution_count": 61,
   "id": "094f7948",
   "metadata": {},
   "outputs": [
    {
     "name": "stdout",
     "output_type": "stream",
     "text": [
      "{'brand': 'Ford', 'model': 'Mustang', 'year': 1964}\n"
     ]
    }
   ],
   "source": [
    "#using dict() function\n",
    "thisdict = {\n",
    "  \"brand\": \"Ford\",\n",
    "  \"model\": \"Mustang\",\n",
    "  \"year\": 1964\n",
    "}\n",
    "mydict = dict(thisdict)\n",
    "print(mydict)"
   ]
  },
  {
   "cell_type": "code",
   "execution_count": 63,
   "id": "e2f79d58",
   "metadata": {},
   "outputs": [
    {
     "name": "stdout",
     "output_type": "stream",
     "text": [
      "{'child1': {'name': 'Emil', 'year': 2004}, 'child2': {'name': 'Tobias', 'year': 2007}, 'child3': {'name': 'Linus', 'year': 2011}}\n"
     ]
    }
   ],
   "source": [
    "#nested dictionaries\n",
    "myfamily = {\n",
    "  \"child1\" : {\n",
    "    \"name\" : \"Emil\",\n",
    "    \"year\" : 2004\n",
    "  },\n",
    "  \"child2\" : {\n",
    "    \"name\" : \"Tobias\",\n",
    "    \"year\" : 2007\n",
    "  },\n",
    "  \"child3\" : {\n",
    "    \"name\" : \"Linus\",\n",
    "    \"year\" : 2011\n",
    "  }\n",
    "}\n",
    "print(myfamily)"
   ]
  },
  {
   "cell_type": "code",
   "execution_count": null,
   "id": "ac557ae7",
   "metadata": {},
   "outputs": [],
   "source": []
  }
 ],
 "metadata": {
  "kernelspec": {
   "display_name": "Python 3 (ipykernel)",
   "language": "python",
   "name": "python3"
  },
  "language_info": {
   "codemirror_mode": {
    "name": "ipython",
    "version": 3
   },
   "file_extension": ".py",
   "mimetype": "text/x-python",
   "name": "python",
   "nbconvert_exporter": "python",
   "pygments_lexer": "ipython3",
   "version": "3.10.3"
  }
 },
 "nbformat": 4,
 "nbformat_minor": 5
}
