{
 "cells": [
  {
   "cell_type": "code",
   "execution_count": 1,
   "id": "31cb05b2",
   "metadata": {},
   "outputs": [
    {
     "name": "stdout",
     "output_type": "stream",
     "text": [
      "a is greater than 5\n"
     ]
    }
   ],
   "source": [
    "a=10\n",
    "if a>5:\n",
    "    print(\"a is greater than 5\")\n",
    "else:\n",
    "    print(\"a is not greater than 5\")"
   ]
  },
  {
   "cell_type": "code",
   "execution_count": 10,
   "id": "721464f4",
   "metadata": {},
   "outputs": [
    {
     "name": "stdout",
     "output_type": "stream",
     "text": [
      "5\n",
      "Jerusha\n",
      "True\n",
      "(5+5j)\n",
      "None\n",
      "<class 'int'>\n",
      "<class 'str'>\n",
      "<class 'bool'>\n",
      "<class 'complex'>\n",
      "<class 'NoneType'>\n"
     ]
    }
   ],
   "source": [
    "#Data Types\n",
    "a = 5\n",
    "b = \"Jerusha\"\n",
    "c = True\n",
    "d = 5 + 5j\n",
    "e = None\n",
    "print(a)\n",
    "print(b)\n",
    "print(c)\n",
    "print(d)\n",
    "print(e)\n",
    "print(type(a))\n",
    "print(type(b))\n",
    "print(type(c))\n",
    "print(type(d))\n",
    "print(type(e))"
   ]
  },
  {
   "cell_type": "code",
   "execution_count": 15,
   "id": "a95b64a9",
   "metadata": {},
   "outputs": [
    {
     "name": "stdout",
     "output_type": "stream",
     "text": [
      "['apple', 'orange', 'mango', 'pineapple', 'mango']\n",
      "<class 'list'>\n",
      "orange\n",
      "['apple', 'orange', 'mango']\n",
      "['apple', 'orange', 'mango', 'pineapple', 'mango', 'grapes']\n"
     ]
    }
   ],
   "source": [
    "#Lists\n",
    "fruits = [\"apple\",\"orange\",\"mango\",\"pineapple\",\"mango\"]\n",
    "print(fruits)\n",
    "print(type(fruits))\n",
    "print(fruits[1])\n",
    "print(fruits[0:3])\n",
    "fruits.append(\"grapes\")\n",
    "print(fruits)"
   ]
  },
  {
   "cell_type": "code",
   "execution_count": 18,
   "id": "31263185",
   "metadata": {},
   "outputs": [
    {
     "name": "stdout",
     "output_type": "stream",
     "text": [
      "('suzuki', 'honda', 'BMW', 'Volvo', 'honda')\n",
      "<class 'tuple'>\n",
      "BMW\n"
     ]
    }
   ],
   "source": [
    "#Tuple\n",
    "cars = (\"suzuki\",\"honda\",\"BMW\",\"Volvo\",\"honda\")\n",
    "print(cars)\n",
    "print(type(cars))\n",
    "#print(cars.append(\"Mercedez\")) is not possible\n",
    "print(cars[2])"
   ]
  },
  {
   "cell_type": "code",
   "execution_count": 27,
   "id": "eca98c47",
   "metadata": {},
   "outputs": [
    {
     "name": "stdout",
     "output_type": "stream",
     "text": [
      "{1, 2, 3, 4, 7, 8, 11}\n",
      "<class 'set'>\n",
      "{'pineapple', 'MANGO', 'apple', 'Orange', 'mango'}\n",
      "<class 'set'>\n"
     ]
    }
   ],
   "source": [
    "#Sets\n",
    "Data = {1,4,2,7,8,3,11,4}\n",
    "print(Data)\n",
    "print(type(Data))\n",
    "fruits = {\"apple\",\"Orange\",\"MANGO\",\"pineapple\",\"mango\"}\n",
    "print(fruits)\n",
    "print(type(fruits))\n",
    "#print(Data[1]) is unindexed\n",
    "#print(Data.append(1)) is unchangeable"
   ]
  },
  {
   "cell_type": "code",
   "execution_count": 29,
   "id": "0a3d2054",
   "metadata": {},
   "outputs": [
    {
     "name": "stdout",
     "output_type": "stream",
     "text": [
      "{'Tropical': ['Apple', 'Grapes', 'Orange'], 'Rate': ['150', '80', '70']}\n",
      "<class 'dict'>\n"
     ]
    }
   ],
   "source": [
    "#Dictionary\n",
    "fruits = {\"Tropical\":[\"Apple\",\"Grapes\",\"Orange\"],\"Rate\":[\"150\",\"80\",\"70\"]}\n",
    "print(fruits)\n",
    "print(type(fruits))\n",
    "#print(fruits[0])"
   ]
  }
 ],
 "metadata": {
  "kernelspec": {
   "display_name": "Python 3 (ipykernel)",
   "language": "python",
   "name": "python3"
  },
  "language_info": {
   "codemirror_mode": {
    "name": "ipython",
    "version": 3
   },
   "file_extension": ".py",
   "mimetype": "text/x-python",
   "name": "python",
   "nbconvert_exporter": "python",
   "pygments_lexer": "ipython3",
   "version": "3.9.7"
  }
 },
 "nbformat": 4,
 "nbformat_minor": 5
}
