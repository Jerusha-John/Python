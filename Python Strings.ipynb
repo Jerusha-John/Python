{
 "cells": [
  {
   "cell_type": "code",
   "execution_count": 1,
   "id": "4d2b22b1",
   "metadata": {},
   "outputs": [
    {
     "name": "stdout",
     "output_type": "stream",
     "text": [
      "Lorem ipsum dolor sit amet,\n",
      "consectetur adipiscing elit,\n",
      "sed do eiusmod tempor incididunt\n",
      "ut labore et dolore magna aliqua.\n"
     ]
    }
   ],
   "source": [
    "# for printing multiple lines\n",
    "a = \"\"\"Lorem ipsum dolor sit amet,\n",
    "consectetur adipiscing elit,\n",
    "sed do eiusmod tempor incididunt\n",
    "ut labore et dolore magna aliqua.\"\"\"\n",
    "print(a)"
   ]
  },
  {
   "cell_type": "code",
   "execution_count": 2,
   "id": "8e7948ea",
   "metadata": {},
   "outputs": [
    {
     "name": "stdout",
     "output_type": "stream",
     "text": [
      "Lorem ipsum dolor sit amet,\n",
      "consectetur adipiscing elit,\n",
      "sed do eiusmod tempor incididunt\n",
      "ut labore et dolore magna aliqua.\n"
     ]
    }
   ],
   "source": [
    "a = '''Lorem ipsum dolor sit amet,\n",
    "consectetur adipiscing elit,\n",
    "sed do eiusmod tempor incididunt\n",
    "ut labore et dolore magna aliqua.'''\n",
    "print(a)"
   ]
  },
  {
   "cell_type": "code",
   "execution_count": 6,
   "id": "dcac0f58",
   "metadata": {},
   "outputs": [
    {
     "name": "stdout",
     "output_type": "stream",
     "text": [
      "J\n",
      "e\n",
      "r\n",
      "u\n",
      "s\n",
      "h\n",
      "a\n",
      " \n",
      "A\n",
      "n\n",
      "n\n",
      " \n",
      "J\n",
      "o\n",
      "h\n",
      "n\n",
      "The fifth letter is  s\n"
     ]
    }
   ],
   "source": [
    "name = \"Jerusha Ann John\"\n",
    "for x in name:\n",
    "    print(x)\n",
    "print(\"The fifth letter is \",name[4])    "
   ]
  },
  {
   "cell_type": "code",
   "execution_count": 8,
   "id": "b20a606e",
   "metadata": {},
   "outputs": [
    {
     "name": "stdout",
     "output_type": "stream",
     "text": [
      "True\n",
      "False\n"
     ]
    }
   ],
   "source": [
    "# checking the existence of a string\n",
    "name = \"Jerusha Ann John\"\n",
    "print(\"John\" in name)\n",
    "print(\"John\" not in name)"
   ]
  },
  {
   "cell_type": "code",
   "execution_count": 17,
   "id": "f508d7b0",
   "metadata": {},
   "outputs": [
    {
     "name": "stdout",
     "output_type": "stream",
     "text": [
      "Jerusha\n",
      "Jeru\n",
      "sha Ann John\n",
      "Joh\n",
      "John\n"
     ]
    }
   ],
   "source": [
    "#slicing\n",
    "print(name[0:7])\n",
    "print(name[:4])\n",
    "print(name[4:])\n",
    "print(name[-4:-1])\n",
    "print(name[-4:])"
   ]
  },
  {
   "cell_type": "code",
   "execution_count": 25,
   "id": "3c26a860",
   "metadata": {},
   "outputs": [
    {
     "name": "stdout",
     "output_type": "stream",
     "text": [
      "jerusha ann john\n",
      "JERUSHA ANN JOHN\n",
      "Jerusha Ann John\n",
      "['Jerusha', 'Ann', 'John']\n",
      "Herusha Ann Hohn\n"
     ]
    }
   ],
   "source": [
    "#modifying\n",
    "print(name.lower())\n",
    "print(name.upper())\n",
    "print(name.strip()) #remove unnecesary spacing at the starting and ending of a line\n",
    "print(name.split()) #returns list\n",
    "print(name.replace(\"J\", \"H\"))"
   ]
  },
  {
   "cell_type": "code",
   "execution_count": 26,
   "id": "1a63da32",
   "metadata": {},
   "outputs": [
    {
     "name": "stdout",
     "output_type": "stream",
     "text": [
      "Hello World\n"
     ]
    }
   ],
   "source": [
    "a = \"Hello\"\n",
    "b = \"World\"\n",
    "c = a + \" \" + b\n",
    "print(c)"
   ]
  },
  {
   "cell_type": "code",
   "execution_count": 27,
   "id": "ded91218",
   "metadata": {},
   "outputs": [
    {
     "name": "stdout",
     "output_type": "stream",
     "text": [
      "HelloWorld\n"
     ]
    }
   ],
   "source": [
    "a = \"Hello\"\n",
    "b = \"World\"\n",
    "c = a+b\n",
    "print(c)"
   ]
  },
  {
   "cell_type": "code",
   "execution_count": null,
   "id": "cccb4241",
   "metadata": {},
   "outputs": [],
   "source": []
  }
 ],
 "metadata": {
  "kernelspec": {
   "display_name": "Python 3 (ipykernel)",
   "language": "python",
   "name": "python3"
  },
  "language_info": {
   "codemirror_mode": {
    "name": "ipython",
    "version": 3
   },
   "file_extension": ".py",
   "mimetype": "text/x-python",
   "name": "python",
   "nbconvert_exporter": "python",
   "pygments_lexer": "ipython3",
   "version": "3.9.7"
  }
 },
 "nbformat": 4,
 "nbformat_minor": 5
}
