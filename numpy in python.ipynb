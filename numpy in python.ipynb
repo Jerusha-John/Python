{
 "cells": [
  {
   "cell_type": "code",
   "execution_count": 4,
   "id": "ae9dc63a",
   "metadata": {},
   "outputs": [
    {
     "data": {
      "text/plain": [
       "49.36363636363637"
      ]
     },
     "execution_count": 4,
     "metadata": {},
     "output_type": "execute_result"
    }
   ],
   "source": [
    "import numpy as np\n",
    "from scipy import stats #for calculating mode\n",
    "marks = [45,12,37,67,37,89,95,27,72,8,54]\n",
    "np.mean(marks)"
   ]
  },
  {
   "cell_type": "code",
   "execution_count": 2,
   "id": "a5c4c0ed",
   "metadata": {},
   "outputs": [
    {
     "data": {
      "text/plain": [
       "45.0"
      ]
     },
     "execution_count": 2,
     "metadata": {},
     "output_type": "execute_result"
    }
   ],
   "source": [
    "np.median(marks)"
   ]
  },
  {
   "cell_type": "code",
   "execution_count": 3,
   "id": "8b47bdc3",
   "metadata": {},
   "outputs": [
    {
     "data": {
      "text/plain": [
       "ModeResult(mode=37, count=2)"
      ]
     },
     "execution_count": 3,
     "metadata": {},
     "output_type": "execute_result"
    }
   ],
   "source": [
    "stats.mode(marks)"
   ]
  },
  {
   "cell_type": "code",
   "execution_count": 6,
   "id": "9f3cd7ba",
   "metadata": {},
   "outputs": [
    {
     "data": {
      "text/plain": [
       "27.68416917916259"
      ]
     },
     "execution_count": 6,
     "metadata": {},
     "output_type": "execute_result"
    }
   ],
   "source": [
    "np.std(marks)  #deviation of marks from mean"
   ]
  },
  {
   "cell_type": "code",
   "execution_count": 7,
   "id": "09b2d92f",
   "metadata": {},
   "outputs": [
    {
     "data": {
      "text/plain": [
       "766.413223140496"
      ]
     },
     "execution_count": 7,
     "metadata": {},
     "output_type": "execute_result"
    }
   ],
   "source": [
    "np.var(marks)  #spread of marks"
   ]
  },
  {
   "cell_type": "code",
   "execution_count": 8,
   "id": "4861b6c1",
   "metadata": {},
   "outputs": [
    {
     "data": {
      "text/plain": [
       "69.5"
      ]
     },
     "execution_count": 8,
     "metadata": {},
     "output_type": "execute_result"
    }
   ],
   "source": [
    "np.percentile(marks,75)  #75th percentile"
   ]
  },
  {
   "cell_type": "code",
   "execution_count": 20,
   "id": "e8da605f",
   "metadata": {},
   "outputs": [],
   "source": [
    "x = np.random.uniform(0,5,250) #uniform distribution of 250 floats ranging from 0 to 5--->for creating a numerical dataset"
   ]
  },
  {
   "cell_type": "code",
   "execution_count": 16,
   "id": "6ff67e10",
   "metadata": {},
   "outputs": [
    {
     "name": "stdout",
     "output_type": "stream",
     "text": [
      "Collecting matplotlib\n",
      "  Obtaining dependency information for matplotlib from https://files.pythonhosted.org/packages/ff/1f/2b83c7acf453318a80dc619e99fc30a663b2c1fb18be3d358a96addfecd9/matplotlib-3.7.2-cp310-cp310-win_amd64.whl.metadata\n",
      "  Downloading matplotlib-3.7.2-cp310-cp310-win_amd64.whl.metadata (5.8 kB)\n",
      "Collecting contourpy>=1.0.1 (from matplotlib)\n",
      "  Obtaining dependency information for contourpy>=1.0.1 from https://files.pythonhosted.org/packages/94/0a/5eb57dd395fade977786b2d2c98c2bee8234358794be44422fe58a719d42/contourpy-1.1.0-cp310-cp310-win_amd64.whl.metadata\n",
      "  Downloading contourpy-1.1.0-cp310-cp310-win_amd64.whl.metadata (5.7 kB)\n",
      "Collecting cycler>=0.10 (from matplotlib)\n",
      "  Downloading cycler-0.11.0-py3-none-any.whl (6.4 kB)\n",
      "Collecting fonttools>=4.22.0 (from matplotlib)\n",
      "  Obtaining dependency information for fonttools>=4.22.0 from https://files.pythonhosted.org/packages/1c/c6/408ee90eae2fd7ef85c5baaedfc8d533805f4c54fc6670dbde9539f1277b/fonttools-4.42.1-cp310-cp310-win_amd64.whl.metadata\n",
      "  Downloading fonttools-4.42.1-cp310-cp310-win_amd64.whl.metadata (154 kB)\n",
      "     -------------------------------------- 154.1/154.1 kB 3.1 MB/s eta 0:00:00\n",
      "Collecting kiwisolver>=1.0.1 (from matplotlib)\n",
      "  Obtaining dependency information for kiwisolver>=1.0.1 from https://files.pythonhosted.org/packages/4a/a1/8a9c9be45c642fa12954855d8b3a02d9fd8551165a558835a19508fec2e6/kiwisolver-1.4.5-cp310-cp310-win_amd64.whl.metadata\n",
      "  Downloading kiwisolver-1.4.5-cp310-cp310-win_amd64.whl.metadata (6.5 kB)\n",
      "Requirement already satisfied: numpy>=1.20 in c:\\users\\cclab34\\appdata\\local\\programs\\python\\python310\\lib\\site-packages (from matplotlib) (1.23.1)\n",
      "Requirement already satisfied: packaging>=20.0 in c:\\users\\cclab34\\appdata\\local\\programs\\python\\python310\\lib\\site-packages (from matplotlib) (21.3)\n",
      "Requirement already satisfied: pillow>=6.2.0 in c:\\users\\cclab34\\appdata\\local\\programs\\python\\python310\\lib\\site-packages (from matplotlib) (9.2.0)\n",
      "Requirement already satisfied: pyparsing<3.1,>=2.3.1 in c:\\users\\cclab34\\appdata\\local\\programs\\python\\python310\\lib\\site-packages (from matplotlib) (3.0.9)\n",
      "Requirement already satisfied: python-dateutil>=2.7 in c:\\users\\cclab34\\appdata\\local\\programs\\python\\python310\\lib\\site-packages (from matplotlib) (2.8.2)\n",
      "Requirement already satisfied: six>=1.5 in c:\\users\\cclab34\\appdata\\local\\programs\\python\\python310\\lib\\site-packages (from python-dateutil>=2.7->matplotlib) (1.16.0)\n",
      "Downloading matplotlib-3.7.2-cp310-cp310-win_amd64.whl (7.5 MB)\n",
      "   ---------------------------------------- 7.5/7.5 MB 22.8 MB/s eta 0:00:00\n",
      "Downloading contourpy-1.1.0-cp310-cp310-win_amd64.whl (470 kB)\n",
      "   --------------------------------------- 470.4/470.4 kB 30.7 MB/s eta 0:00:00\n",
      "Downloading fonttools-4.42.1-cp310-cp310-win_amd64.whl (2.1 MB)\n",
      "   ---------------------------------------- 2.1/2.1 MB 22.4 MB/s eta 0:00:00\n",
      "Downloading kiwisolver-1.4.5-cp310-cp310-win_amd64.whl (56 kB)\n",
      "   ---------------------------------------- 56.1/56.1 kB 2.9 MB/s eta 0:00:00\n",
      "Installing collected packages: kiwisolver, fonttools, cycler, contourpy, matplotlib\n",
      "Successfully installed contourpy-1.1.0 cycler-0.11.0 fonttools-4.42.1 kiwisolver-1.4.5 matplotlib-3.7.2\n",
      "Note: you may need to restart the kernel to use updated packages.\n"
     ]
    }
   ],
   "source": [
    "pip install matplotlib"
   ]
  },
  {
   "cell_type": "code",
   "execution_count": 18,
   "id": "327ac5f5",
   "metadata": {},
   "outputs": [
    {
     "data": {
      "text/plain": [
       "(array([24., 30., 25., 27., 28., 17., 26., 20., 19., 34.]),\n",
       " array([0.01693816, 0.51424542, 1.01155267, 1.50885992, 2.00616717,\n",
       "        2.50347442, 3.00078167, 3.49808893, 3.99539618, 4.49270343,\n",
       "        4.99001068]),\n",
       " <BarContainer object of 10 artists>)"
      ]
     },
     "execution_count": 18,
     "metadata": {},
     "output_type": "execute_result"
    },
    {
     "data": {
      "image/png": "[encoded data removed]",
      "text/plain": [
       "<Figure size 432x288 with 1 Axes>"
      ]
     },
     "metadata": {
      "needs_background": "light"
     },
     "output_type": "display_data"
    }
   ],
   "source": [
    "import matplotlib.pyplot as plt\n",
    "plt.hist(x)"
   ]
  },
  {
   "cell_type": "code",
   "execution_count": 23,
   "id": "152dc85e",
   "metadata": {},
   "outputs": [
    {
     "data": {
      "text/plain": [
       "(array([ 977.,  931.,  975.,  975.,  977.,  996., 1041., 1000., 1046.,\n",
       "        1002., 1008.,  977.,  963., 1056.,  980.,  995., 1060.,  978.,\n",
       "        1042., 1001.,  970.,  963.,  997., 1058., 1035., 1005.,  997.,\n",
       "         979., 1032.,  976., 1036.,  994., 1038.,  996., 1020., 1060.,\n",
       "         917.,  982., 1022., 1014., 1037.,  973., 1004., 1022., 1019.,\n",
       "        1018., 1009.,  989., 1033., 1023.,  984., 1061.,  993.,  999.,\n",
       "         991., 1024.,  950., 1007., 1020., 1004., 1011.,  947.,  976.,\n",
       "         971., 1033.,  944.,  967.,  968.,  963.,  992., 1050.,  974.,\n",
       "        1028.,  974.,  977.,  981., 1006., 1004., 1013., 1041., 1000.,\n",
       "         997.,  966., 1018., 1031., 1039., 1006.,  980.,  997.,  986.,\n",
       "         985.,  957., 1037.,  951.,  975., 1082.,  986., 1088.,  961.,\n",
       "         907.]),\n",
       " array([5.90877523e-06, 5.00043197e-02, 1.00002731e-01, 1.50001142e-01,\n",
       "        1.99999553e-01, 2.49997964e-01, 2.99996375e-01, 3.49994785e-01,\n",
       "        3.99993196e-01, 4.49991607e-01, 4.99990018e-01, 5.49988429e-01,\n",
       "        5.99986840e-01, 6.49985251e-01, 6.99983662e-01, 7.49982073e-01,\n",
       "        7.99980484e-01, 8.49978895e-01, 8.99977306e-01, 9.49975717e-01,\n",
       "        9.99974128e-01, 1.04997254e+00, 1.09997095e+00, 1.14996936e+00,\n",
       "        1.19996777e+00, 1.24996618e+00, 1.29996459e+00, 1.34996300e+00,\n",
       "        1.39996142e+00, 1.44995983e+00, 1.49995824e+00, 1.54995665e+00,\n",
       "        1.59995506e+00, 1.64995347e+00, 1.69995188e+00, 1.74995029e+00,\n",
       "        1.79994870e+00, 1.84994711e+00, 1.89994553e+00, 1.94994394e+00,\n",
       "        1.99994235e+00, 2.04994076e+00, 2.09993917e+00, 2.14993758e+00,\n",
       "        2.19993599e+00, 2.24993440e+00, 2.29993281e+00, 2.34993122e+00,\n",
       "        2.39992963e+00, 2.44992805e+00, 2.49992646e+00, 2.54992487e+00,\n",
       "        2.59992328e+00, 2.64992169e+00, 2.69992010e+00, 2.74991851e+00,\n",
       "        2.79991692e+00, 2.84991533e+00, 2.89991374e+00, 2.94991216e+00,\n",
       "        2.99991057e+00, 3.04990898e+00, 3.09990739e+00, 3.14990580e+00,\n",
       "        3.19990421e+00, 3.24990262e+00, 3.29990103e+00, 3.34989944e+00,\n",
       "        3.39989785e+00, 3.44989627e+00, 3.49989468e+00, 3.54989309e+00,\n",
       "        3.59989150e+00, 3.64988991e+00, 3.69988832e+00, 3.74988673e+00,\n",
       "        3.79988514e+00, 3.84988355e+00, 3.89988196e+00, 3.94988037e+00,\n",
       "        3.99987879e+00, 4.04987720e+00, 4.09987561e+00, 4.14987402e+00,\n",
       "        4.19987243e+00, 4.24987084e+00, 4.29986925e+00, 4.34986766e+00,\n",
       "        4.39986607e+00, 4.44986448e+00, 4.49986290e+00, 4.54986131e+00,\n",
       "        4.59985972e+00, 4.64985813e+00, 4.69985654e+00, 4.74985495e+00,\n",
       "        4.79985336e+00, 4.84985177e+00, 4.89985018e+00, 4.94984859e+00,\n",
       "        4.99984700e+00]),\n",
       " <BarContainer object of 100 artists>)"
      ]
     },
     "execution_count": 23,
     "metadata": {},
     "output_type": "execute_result"
    },
    {
     "data": {
      "image/png": "[encoded data removed]",
      "text/plain": [
       "<Figure size 432x288 with 1 Axes>"
      ]
     },
     "metadata": {
      "needs_background": "light"
     },
     "output_type": "display_data"
    }
   ],
   "source": [
    "y = np.random.uniform(0,5,100000)\n",
    "plt.hist(y,100)"
   ]
  },
  {
   "cell_type": "code",
   "execution_count": 25,
   "id": "4c24f748",
   "metadata": {},
   "outputs": [
    {
     "data": {
      "text/plain": [
       "(array([2.000e+00, 1.000e+00, 2.000e+00, 0.000e+00, 2.000e+00, 4.000e+00,\n",
       "        2.000e+00, 6.000e+00, 9.000e+00, 2.200e+01, 1.800e+01, 2.100e+01,\n",
       "        4.300e+01, 3.700e+01, 7.800e+01, 8.000e+01, 9.700e+01, 1.180e+02,\n",
       "        1.710e+02, 1.710e+02, 2.360e+02, 2.720e+02, 3.370e+02, 3.930e+02,\n",
       "        4.630e+02, 5.820e+02, 6.600e+02, 8.100e+02, 8.650e+02, 1.029e+03,\n",
       "        1.175e+03, 1.338e+03, 1.580e+03, 1.722e+03, 1.910e+03, 2.133e+03,\n",
       "        2.295e+03, 2.408e+03, 2.642e+03, 2.863e+03, 3.028e+03, 3.061e+03,\n",
       "        3.166e+03, 3.258e+03, 3.500e+03, 3.540e+03, 3.496e+03, 3.463e+03,\n",
       "        3.515e+03, 3.431e+03, 3.332e+03, 3.201e+03, 3.149e+03, 2.946e+03,\n",
       "        2.848e+03, 2.742e+03, 2.485e+03, 2.380e+03, 2.114e+03, 2.012e+03,\n",
       "        1.779e+03, 1.506e+03, 1.305e+03, 1.216e+03, 1.117e+03, 9.580e+02,\n",
       "        8.170e+02, 7.240e+02, 5.660e+02, 4.940e+02, 4.660e+02, 3.450e+02,\n",
       "        2.750e+02, 2.580e+02, 2.220e+02, 1.580e+02, 1.250e+02, 9.200e+01,\n",
       "        8.100e+01, 6.500e+01, 4.100e+01, 3.200e+01, 2.100e+01, 1.600e+01,\n",
       "        1.800e+01, 1.000e+01, 6.000e+00, 4.000e+00, 2.000e+00, 6.000e+00,\n",
       "        5.000e+00, 2.000e+00, 1.000e+00, 0.000e+00, 1.000e+00, 1.000e+00,\n",
       "        0.000e+00, 0.000e+00, 0.000e+00, 1.000e+00]),\n",
       " array([0.84980472, 0.93793086, 1.026057  , 1.11418314, 1.20230928,\n",
       "        1.29043542, 1.37856156, 1.4666877 , 1.55481384, 1.64293998,\n",
       "        1.73106612, 1.81919226, 1.9073184 , 1.99544454, 2.08357068,\n",
       "        2.17169682, 2.25982296, 2.3479491 , 2.43607524, 2.52420138,\n",
       "        2.61232752, 2.70045366, 2.7885798 , 2.87670594, 2.96483208,\n",
       "        3.05295822, 3.14108436, 3.2292105 , 3.31733664, 3.40546278,\n",
       "        3.49358892, 3.58171506, 3.66984119, 3.75796733, 3.84609347,\n",
       "        3.93421961, 4.02234575, 4.11047189, 4.19859803, 4.28672417,\n",
       "        4.37485031, 4.46297645, 4.55110259, 4.63922873, 4.72735487,\n",
       "        4.81548101, 4.90360715, 4.99173329, 5.07985943, 5.16798557,\n",
       "        5.25611171, 5.34423785, 5.43236399, 5.52049013, 5.60861627,\n",
       "        5.69674241, 5.78486855, 5.87299469, 5.96112083, 6.04924697,\n",
       "        6.13737311, 6.22549925, 6.31362539, 6.40175153, 6.48987767,\n",
       "        6.57800381, 6.66612995, 6.75425609, 6.84238223, 6.93050837,\n",
       "        7.01863451, 7.10676065, 7.19488679, 7.28301293, 7.37113907,\n",
       "        7.4592652 , 7.54739134, 7.63551748, 7.72364362, 7.81176976,\n",
       "        7.8998959 , 7.98802204, 8.07614818, 8.16427432, 8.25240046,\n",
       "        8.3405266 , 8.42865274, 8.51677888, 8.60490502, 8.69303116,\n",
       "        8.7811573 , 8.86928344, 8.95740958, 9.04553572, 9.13366186,\n",
       "        9.221788  , 9.30991414, 9.39804028, 9.48616642, 9.57429256,\n",
       "        9.6624187 ]),\n",
       " <BarContainer object of 100 artists>)"
      ]
     },
     "execution_count": 25,
     "metadata": {},
     "output_type": "execute_result"
    },
    {
     "data": {
      "image/png": "[encoded data removed]",
      "text/plain": [
       "<Figure size 432x288 with 1 Axes>"
      ]
     },
     "metadata": {
      "needs_background": "light"
     },
     "output_type": "display_data"
    }
   ],
   "source": [
    "z = np.random.normal(5,1,100000)  #normal distribution--->5 and 1 are the mean and std respectively\n",
    "plt.hist(z,100)"
   ]
  },
  {
   "cell_type": "code",
   "execution_count": 26,
   "id": "7b629019",
   "metadata": {},
   "outputs": [
    {
     "name": "stdout",
     "output_type": "stream",
     "text": [
      "(2, 4)\n"
     ]
    }
   ],
   "source": [
    "arr = np.array([[1,2,3,4],[5,6,7,8]]) #2D array\n",
    "print(arr.shape)"
   ]
  },
  {
   "cell_type": "code",
   "execution_count": 28,
   "id": "3fe07d33",
   "metadata": {},
   "outputs": [
    {
     "name": "stdout",
     "output_type": "stream",
     "text": [
      "(1, 3, 4)\n"
     ]
    }
   ],
   "source": [
    "arr = np.array([[[1,2,3,4],[5,6,7,8],[9,10,11,12]]]) #3D array\n",
    "print(arr.shape)"
   ]
  },
  {
   "cell_type": "code",
   "execution_count": 32,
   "id": "1d890e79",
   "metadata": {},
   "outputs": [
    {
     "name": "stdout",
     "output_type": "stream",
     "text": [
      "(1, 1, 3, 2)\n"
     ]
    }
   ],
   "source": [
    "arr = np.array([[[[1,2],[5,6],[8,9]]]])   # 1 is the no of 4D array\n",
    "print(arr.shape)                          # 1 is the no of 3D array\n",
    "                                          # 3 is the no of 2D array\n",
    "                                          # 2 is the no of 1D array"
   ]
  },
  {
   "cell_type": "code",
   "execution_count": 36,
   "id": "5601048c",
   "metadata": {},
   "outputs": [
    {
     "name": "stdout",
     "output_type": "stream",
     "text": [
      "(2, 1, 3, 2)\n"
     ]
    }
   ],
   "source": [
    "arr = np.array([[[[1,2],[3,4],[6,7]]],[[[5,6],[8,9],[2,1]]]])\n",
    "print(arr.shape) "
   ]
  },
  {
   "cell_type": "code",
   "execution_count": 39,
   "id": "da11eacd",
   "metadata": {},
   "outputs": [
    {
     "name": "stdout",
     "output_type": "stream",
     "text": [
      "[[ 1  2  3]\n",
      " [ 4  5  6]\n",
      " [ 7  8  9]\n",
      " [10 11 12]]\n"
     ]
    }
   ],
   "source": [
    "arr = np.array([1,2,3,4,5,6,7,8,9,10,11,12])\n",
    "newarr = arr.reshape(4,3)\n",
    "print(newarr)"
   ]
  },
  {
   "cell_type": "code",
   "execution_count": 40,
   "id": "15100916",
   "metadata": {},
   "outputs": [
    {
     "name": "stdout",
     "output_type": "stream",
     "text": [
      "[[[ 1  2]\n",
      "  [ 3  4]\n",
      "  [ 5  6]]\n",
      "\n",
      " [[ 7  8]\n",
      "  [ 9 10]\n",
      "  [11 12]]]\n"
     ]
    }
   ],
   "source": [
    "newarr = arr.reshape(2,3,2)\n",
    "print(newarr)"
   ]
  },
  {
   "cell_type": "code",
   "execution_count": 41,
   "id": "0423a00f",
   "metadata": {},
   "outputs": [
    {
     "name": "stdout",
     "output_type": "stream",
     "text": [
      "1\n",
      "2\n",
      "3\n"
     ]
    }
   ],
   "source": [
    "arr = np.array([1,2,3])\n",
    "for x in arr:\n",
    "    print(x)"
   ]
  },
  {
   "cell_type": "code",
   "execution_count": null,
   "id": "fa671fcf",
   "metadata": {},
   "outputs": [],
   "source": []
  }
 ],
 "metadata": {
  "kernelspec": {
   "display_name": "Python 3 (ipykernel)",
   "language": "python",
   "name": "python3"
  },
  "language_info": {
   "codemirror_mode": {
    "name": "ipython",
    "version": 3
   },
   "file_extension": ".py",
   "mimetype": "text/x-python",
   "name": "python",
   "nbconvert_exporter": "python",
   "pygments_lexer": "ipython3",
   "version": "3.10.3"
  }
 },
 "nbformat": 4,
 "nbformat_minor": 5
}
