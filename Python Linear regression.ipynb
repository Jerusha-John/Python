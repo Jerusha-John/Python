{
 "cells": [
  {
   "cell_type": "code",
   "execution_count": 8,
   "id": "f21a228e",
   "metadata": {},
   "outputs": [
    {
     "data": {
      "image/png": "[encoded data removed]",
      "text/plain": [
       "<Figure size 432x288 with 1 Axes>"
      ]
     },
     "metadata": {
      "needs_background": "light"
     },
     "output_type": "display_data"
    },
    {
     "name": "stdout",
     "output_type": "stream",
     "text": [
      "-0.7467466895464259\n",
      "0.003359957021458433\n"
     ]
    }
   ],
   "source": [
    "#drawing the line of linear regression\n",
    "import matplotlib.pyplot as plt\n",
    "from scipy import stats\n",
    "\n",
    "x=[5,7,8,7,2,17,2,9,5,11,12,13,6]\n",
    "y=[99,86,86,88,111,86,113,87,94,78,77,87,86]\n",
    "\n",
    "slope,intercept,r,p,std_err = stats.linregress(x,y)\n",
    "\n",
    "def myfunc(x):\n",
    "    return slope*x+intercept\n",
    "\n",
    "mymodel = list(map(myfunc, x))\n",
    "\n",
    "plt.scatter(x,y)\n",
    "plt.plot(x, mymodel)\n",
    "plt.show()  #display the diagram\n",
    "\n",
    "print(r)  # relationship - the coefficient of correlation - is called r(ranges from -1 to 1)\n",
    "\n",
    "print(p)"
   ]
  },
  {
   "cell_type": "code",
   "execution_count": 13,
   "id": "7219714e",
   "metadata": {},
   "outputs": [
    {
     "name": "stdout",
     "output_type": "stream",
     "text": [
      "85.59308314937454\n"
     ]
    }
   ],
   "source": [
    "def myfunc(x):   \n",
    "    return slope*x+intercept\n",
    "\n",
    "s=myfunc(10) #position of 10 in y\n",
    "print(s)"
   ]
  },
  {
   "cell_type": "code",
   "execution_count": null,
   "id": "996d2a54",
   "metadata": {},
   "outputs": [],
   "source": []
  }
 ],
 "metadata": {
  "kernelspec": {
   "display_name": "Python 3 (ipykernel)",
   "language": "python",
   "name": "python3"
  },
  "language_info": {
   "codemirror_mode": {
    "name": "ipython",
    "version": 3
   },
   "file_extension": ".py",
   "mimetype": "text/x-python",
   "name": "python",
   "nbconvert_exporter": "python",
   "pygments_lexer": "ipython3",
   "version": "3.9.7"
  }
 },
 "nbformat": 4,
 "nbformat_minor": 5
}
