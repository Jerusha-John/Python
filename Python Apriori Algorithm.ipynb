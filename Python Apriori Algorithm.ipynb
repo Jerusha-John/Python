{
 "cells": [
  {
   "cell_type": "code",
   "execution_count": 2,
   "id": "788c4da7",
   "metadata": {},
   "outputs": [],
   "source": [
    "import numpy as np\n",
    "import pandas as pd\n",
    "from mlxtend.frequent_patterns import apriori,association_rules"
   ]
  },
  {
   "cell_type": "code",
   "execution_count": 3,
   "id": "3bb13be5",
   "metadata": {},
   "outputs": [],
   "source": [
    "data=pd.read_excel('Online_RetailApriori.xlsx')    #pip install apyori---->pip install mlxtend---->pip install openpyxl"
   ]
  },
  {
   "cell_type": "code",
   "execution_count": 4,
   "id": "45c2787d",
   "metadata": {},
   "outputs": [
    {
     "name": "stdout",
     "output_type": "stream",
     "text": [
      "       InvoiceNo StockCode                          Description  Quantity  \\\n",
      "0         536365    85123A   WHITE HANGING HEART T-LIGHT HOLDER         6   \n",
      "1         536365     71053                  WHITE METAL LANTERN         6   \n",
      "2         536365    84406B       CREAM CUPID HEARTS COAT HANGER         8   \n",
      "3         536365    84029G  KNITTED UNION FLAG HOT WATER BOTTLE         6   \n",
      "4         536365    84029E       RED WOOLLY HOTTIE WHITE HEART.         6   \n",
      "...          ...       ...                                  ...       ...   \n",
      "541904    581587     22613          PACK OF 20 SPACEBOY NAPKINS        12   \n",
      "541905    581587     22899         CHILDREN'S APRON DOLLY GIRL          6   \n",
      "541906    581587     23254        CHILDRENS CUTLERY DOLLY GIRL          4   \n",
      "541907    581587     23255      CHILDRENS CUTLERY CIRCUS PARADE         4   \n",
      "541908    581587     22138        BAKING SET 9 PIECE RETROSPOT          3   \n",
      "\n",
      "               InvoiceDate  UnitPrice  CustomerID         Country  \n",
      "0      2010-12-01 08:26:00       2.55     17850.0  United Kingdom  \n",
      "1      2010-12-01 08:26:00       3.39     17850.0  United Kingdom  \n",
      "2      2010-12-01 08:26:00       2.75     17850.0  United Kingdom  \n",
      "3      2010-12-01 08:26:00       3.39     17850.0  United Kingdom  \n",
      "4      2010-12-01 08:26:00       3.39     17850.0  United Kingdom  \n",
      "...                    ...        ...         ...             ...  \n",
      "541904 2011-12-09 12:50:00       0.85     12680.0          France  \n",
      "541905 2011-12-09 12:50:00       2.10     12680.0          France  \n",
      "541906 2011-12-09 12:50:00       4.15     12680.0          France  \n",
      "541907 2011-12-09 12:50:00       4.15     12680.0          France  \n",
      "541908 2011-12-09 12:50:00       4.95     12680.0          France  \n",
      "\n",
      "[541909 rows x 8 columns]\n"
     ]
    }
   ],
   "source": [
    "print(data)"
   ]
  },
  {
   "cell_type": "code",
   "execution_count": 5,
   "id": "d40a0c52",
   "metadata": {},
   "outputs": [
    {
     "name": "stdout",
     "output_type": "stream",
     "text": [
      "<class 'pandas.core.frame.DataFrame'>\n",
      "RangeIndex: 541909 entries, 0 to 541908\n",
      "Data columns (total 8 columns):\n",
      " #   Column       Non-Null Count   Dtype         \n",
      "---  ------       --------------   -----         \n",
      " 0   InvoiceNo    541909 non-null  object        \n",
      " 1   StockCode    541909 non-null  object        \n",
      " 2   Description  540455 non-null  object        \n",
      " 3   Quantity     541909 non-null  int64         \n",
      " 4   InvoiceDate  541909 non-null  datetime64[ns]\n",
      " 5   UnitPrice    541909 non-null  float64       \n",
      " 6   CustomerID   406829 non-null  float64       \n",
      " 7   Country      541909 non-null  object        \n",
      "dtypes: datetime64[ns](1), float64(2), int64(1), object(4)\n",
      "memory usage: 33.1+ MB\n"
     ]
    }
   ],
   "source": [
    "data.info()"
   ]
  },
  {
   "cell_type": "code",
   "execution_count": 6,
   "id": "e8c0917d",
   "metadata": {},
   "outputs": [
    {
     "data": {
      "text/plain": [
       "Index(['InvoiceNo', 'StockCode', 'Description', 'Quantity', 'InvoiceDate',\n",
       "       'UnitPrice', 'CustomerID', 'Country'],\n",
       "      dtype='object')"
      ]
     },
     "execution_count": 6,
     "metadata": {},
     "output_type": "execute_result"
    }
   ],
   "source": [
    "# Exploring the columns of the data\n",
    "data.columns"
   ]
  },
  {
   "cell_type": "code",
   "execution_count": 7,
   "id": "cceb3066",
   "metadata": {},
   "outputs": [
    {
     "data": {
      "text/plain": [
       "array(['United Kingdom', 'France', 'Australia', 'Netherlands', 'Germany',\n",
       "       'Norway', 'EIRE', 'Switzerland', 'Spain', 'Poland', 'Portugal',\n",
       "       'Italy', 'Belgium', 'Lithuania', 'Japan', 'Iceland',\n",
       "       'Channel Islands', 'Denmark', 'Cyprus', 'Sweden', 'Austria',\n",
       "       'Israel', 'Finland', 'Bahrain', 'Greece', 'Hong Kong', 'Singapore',\n",
       "       'Lebanon', 'United Arab Emirates', 'Saudi Arabia',\n",
       "       'Czech Republic', 'Canada', 'Unspecified', 'Brazil', 'USA',\n",
       "       'European Community', 'Malta', 'RSA'], dtype=object)"
      ]
     },
     "execution_count": 7,
     "metadata": {},
     "output_type": "execute_result"
    }
   ],
   "source": [
    "# Exploring the different regions of transactions\n",
    "data.Country.unique()"
   ]
  },
  {
   "cell_type": "code",
   "execution_count": 8,
   "id": "1708ddcf",
   "metadata": {},
   "outputs": [],
   "source": [
    "#Cleaning the data\n",
    "\n",
    "#striping the extra spaces in the description\n",
    "data['Description'] = data['Description'].str.strip()"
   ]
  },
  {
   "cell_type": "code",
   "execution_count": 9,
   "id": "6ea7f529",
   "metadata": {},
   "outputs": [],
   "source": [
    "## Dropping the rows without any invoice number\n",
    "data.dropna(axis = 0,subset = ['InvoiceNo'],inplace = True)\n",
    "data['InvoiceNo'] = data['InvoiceNo'].astype('str')"
   ]
  },
  {
   "cell_type": "code",
   "execution_count": 10,
   "id": "b2b56e07",
   "metadata": {},
   "outputs": [],
   "source": [
    "# Dropping all transactions which were done on credit\n",
    "data = data[~data['InvoiceNo'].str.contains('C')]"
   ]
  },
  {
   "cell_type": "code",
   "execution_count": 20,
   "id": "c696e908",
   "metadata": {},
   "outputs": [],
   "source": [
    "#Splitting the data according to the region of transaction\n",
    "\n",
    "# Transactions done in France\n",
    "basket_France = (data[data['Country'] ==\"France\"]\n",
    "          .groupby(['InvoiceNo', 'Description'])['Quantity']\n",
    "          .sum().unstack().reset_index().fillna(0)\n",
    "          .set_index('InvoiceNo'))"
   ]
  },
  {
   "cell_type": "code",
   "execution_count": 21,
   "id": "0961fa3f",
   "metadata": {},
   "outputs": [
    {
     "name": "stdout",
     "output_type": "stream",
     "text": [
      "Description  10 COLOUR SPACEBOY PEN  12 COLOURED PARTY BALLOONS  \\\n",
      "InvoiceNo                                                         \n",
      "536370                          0.0                         0.0   \n",
      "536852                          0.0                         0.0   \n",
      "536974                          0.0                         0.0   \n",
      "537065                          0.0                         0.0   \n",
      "537463                          0.0                         0.0   \n",
      "...                             ...                         ...   \n",
      "580986                          0.0                         0.0   \n",
      "581001                          0.0                         0.0   \n",
      "581171                          0.0                         0.0   \n",
      "581279                          0.0                         0.0   \n",
      "581587                          0.0                         0.0   \n",
      "\n",
      "Description  12 EGG HOUSE PAINTED WOOD  12 MESSAGE CARDS WITH ENVELOPES  \\\n",
      "InvoiceNo                                                                 \n",
      "536370                             0.0                              0.0   \n",
      "536852                             0.0                              0.0   \n",
      "536974                             0.0                              0.0   \n",
      "537065                             0.0                              0.0   \n",
      "537463                             0.0                              0.0   \n",
      "...                                ...                              ...   \n",
      "580986                             0.0                              0.0   \n",
      "581001                             0.0                              0.0   \n",
      "581171                             0.0                              0.0   \n",
      "581279                             0.0                              0.0   \n",
      "581587                             0.0                              0.0   \n",
      "\n",
      "Description  12 PENCIL SMALL TUBE WOODLAND  \\\n",
      "InvoiceNo                                    \n",
      "536370                                 0.0   \n",
      "536852                                 0.0   \n",
      "536974                                 0.0   \n",
      "537065                                 0.0   \n",
      "537463                                 0.0   \n",
      "...                                    ...   \n",
      "580986                                 0.0   \n",
      "581001                                 0.0   \n",
      "581171                                 0.0   \n",
      "581279                                 0.0   \n",
      "581587                                 0.0   \n",
      "\n",
      "Description  12 PENCILS SMALL TUBE RED RETROSPOT  12 PENCILS SMALL TUBE SKULL  \\\n",
      "InvoiceNo                                                                       \n",
      "536370                                       0.0                          0.0   \n",
      "536852                                       0.0                          0.0   \n",
      "536974                                       0.0                          0.0   \n",
      "537065                                       0.0                          0.0   \n",
      "537463                                       0.0                          0.0   \n",
      "...                                          ...                          ...   \n",
      "580986                                       0.0                          0.0   \n",
      "581001                                       0.0                          0.0   \n",
      "581171                                       0.0                          0.0   \n",
      "581279                                       0.0                          0.0   \n",
      "581587                                       0.0                          0.0   \n",
      "\n",
      "Description  12 PENCILS TALL TUBE POSY  12 PENCILS TALL TUBE RED RETROSPOT  \\\n",
      "InvoiceNo                                                                    \n",
      "536370                             0.0                                 0.0   \n",
      "536852                             0.0                                 0.0   \n",
      "536974                             0.0                                 0.0   \n",
      "537065                             0.0                                 0.0   \n",
      "537463                             0.0                                 0.0   \n",
      "...                                ...                                 ...   \n",
      "580986                             0.0                                 0.0   \n",
      "581001                             0.0                                 0.0   \n",
      "581171                             0.0                                 0.0   \n",
      "581279                             0.0                                 0.0   \n",
      "581587                             0.0                                 0.0   \n",
      "\n",
      "Description  12 PENCILS TALL TUBE WOODLAND  ...  WRAP VINTAGE PETALS  DESIGN  \\\n",
      "InvoiceNo                                   ...                                \n",
      "536370                                 0.0  ...                          0.0   \n",
      "536852                                 0.0  ...                          0.0   \n",
      "536974                                 0.0  ...                          0.0   \n",
      "537065                                 0.0  ...                          0.0   \n",
      "537463                                 0.0  ...                          0.0   \n",
      "...                                    ...  ...                          ...   \n",
      "580986                                 0.0  ...                          0.0   \n",
      "581001                                 0.0  ...                          0.0   \n",
      "581171                                 0.0  ...                          0.0   \n",
      "581279                                 0.0  ...                          0.0   \n",
      "581587                                 0.0  ...                          0.0   \n",
      "\n",
      "Description  YELLOW COAT RACK PARIS FASHION  YELLOW GIANT GARDEN THERMOMETER  \\\n",
      "InvoiceNo                                                                      \n",
      "536370                                  0.0                              0.0   \n",
      "536852                                  0.0                              0.0   \n",
      "536974                                  0.0                              0.0   \n",
      "537065                                  0.0                              0.0   \n",
      "537463                                  0.0                              0.0   \n",
      "...                                     ...                              ...   \n",
      "580986                                  0.0                              0.0   \n",
      "581001                                  0.0                              0.0   \n",
      "581171                                  0.0                              0.0   \n",
      "581279                                  0.0                              0.0   \n",
      "581587                                  0.0                              0.0   \n",
      "\n",
      "Description  YELLOW SHARK HELICOPTER  ZINC  STAR T-LIGHT HOLDER  \\\n",
      "InvoiceNo                                                         \n",
      "536370                           0.0                        0.0   \n",
      "536852                           0.0                        0.0   \n",
      "536974                           0.0                        0.0   \n",
      "537065                           0.0                        0.0   \n",
      "537463                           0.0                        0.0   \n",
      "...                              ...                        ...   \n",
      "580986                           0.0                        0.0   \n",
      "581001                           0.0                        0.0   \n",
      "581171                           0.0                        0.0   \n",
      "581279                           0.0                        0.0   \n",
      "581587                           0.0                        0.0   \n",
      "\n",
      "Description  ZINC FOLKART SLEIGH BELLS  ZINC HERB GARDEN CONTAINER  \\\n",
      "InvoiceNo                                                            \n",
      "536370                             0.0                         0.0   \n",
      "536852                             0.0                         0.0   \n",
      "536974                             0.0                         0.0   \n",
      "537065                             0.0                         0.0   \n",
      "537463                             0.0                         0.0   \n",
      "...                                ...                         ...   \n",
      "580986                             0.0                         0.0   \n",
      "581001                             0.0                         0.0   \n",
      "581171                             0.0                         0.0   \n",
      "581279                             0.0                         0.0   \n",
      "581587                             0.0                         0.0   \n",
      "\n",
      "Description  ZINC METAL HEART DECORATION  ZINC T-LIGHT HOLDER STAR LARGE  \\\n",
      "InvoiceNo                                                                  \n",
      "536370                               0.0                             0.0   \n",
      "536852                               0.0                             0.0   \n",
      "536974                               0.0                             0.0   \n",
      "537065                               0.0                             0.0   \n",
      "537463                               0.0                             0.0   \n",
      "...                                  ...                             ...   \n",
      "580986                               0.0                             0.0   \n",
      "581001                               0.0                             0.0   \n",
      "581171                               0.0                             0.0   \n",
      "581279                               0.0                             0.0   \n",
      "581587                               0.0                             0.0   \n",
      "\n",
      "Description  ZINC T-LIGHT HOLDER STARS SMALL  \n",
      "InvoiceNo                                     \n",
      "536370                                   0.0  \n",
      "536852                                   0.0  \n",
      "536974                                   0.0  \n",
      "537065                                   0.0  \n",
      "537463                                   0.0  \n",
      "...                                      ...  \n",
      "580986                                   0.0  \n",
      "581001                                   0.0  \n",
      "581171                                   0.0  \n",
      "581279                                   0.0  \n",
      "581587                                   0.0  \n",
      "\n",
      "[392 rows x 1563 columns]\n"
     ]
    }
   ],
   "source": [
    "print(basket_France)"
   ]
  },
  {
   "cell_type": "code",
   "execution_count": 22,
   "id": "12127c7b",
   "metadata": {},
   "outputs": [],
   "source": [
    "# Transactions done in the United Kingdom\n",
    "basket_UK = (data[data['Country'] ==\"United Kingdom\"]            #removing unstack()\n",
    "          .groupby(['InvoiceNo', 'Description'])['Quantity']\n",
    "          .sum().reset_index().fillna(0)\n",
    "          .set_index('InvoiceNo'))"
   ]
  },
  {
   "cell_type": "code",
   "execution_count": 23,
   "id": "873f076f",
   "metadata": {},
   "outputs": [
    {
     "name": "stdout",
     "output_type": "stream",
     "text": [
      "                                   Description  Quantity\n",
      "InvoiceNo                                               \n",
      "536365          CREAM CUPID HEARTS COAT HANGER         8\n",
      "536365       GLASS STAR FROSTED T-LIGHT HOLDER         6\n",
      "536365     KNITTED UNION FLAG HOT WATER BOTTLE         6\n",
      "536365          RED WOOLLY HOTTIE WHITE HEART.         6\n",
      "536365            SET 7 BABUSHKA NESTING BOXES         2\n",
      "...                                        ...       ...\n",
      "581586           RED RETROSPOT ROUND CAKE TINS        24\n",
      "581586        SET OF 3 HANGING OWLS OLLIE BEAK        24\n",
      "A563185                        Adjust bad debt         1\n",
      "A563186                        Adjust bad debt         1\n",
      "A563187                        Adjust bad debt         1\n",
      "\n",
      "[475560 rows x 2 columns]\n"
     ]
    }
   ],
   "source": [
    "print(basket_UK)"
   ]
  },
  {
   "cell_type": "code",
   "execution_count": 25,
   "id": "f120524f",
   "metadata": {},
   "outputs": [],
   "source": [
    "# Defining the hot encoding function to make the data suitable for the concerned libraries\n",
    "def hot_encode(x):\n",
    "    if(x<= 0):\n",
    "        return 0\n",
    "    if(x>= 1):\n",
    "        return 1\n",
    "    \n",
    "# Encoding the datasets\n",
    "basket_encoded = basket_France.applymap(hot_encode)\n",
    "basket_France = basket_encoded"
   ]
  },
  {
   "cell_type": "code",
   "execution_count": 26,
   "id": "eb8e1a99",
   "metadata": {},
   "outputs": [
    {
     "name": "stdout",
     "output_type": "stream",
     "text": [
      "                                           antecedents  \\\n",
      "45                        (JUMBO BAG WOODLAND ANIMALS)   \n",
      "258  (RED TOADSTOOL LED NIGHT LIGHT, PLASTERS IN TI...   \n",
      "270  (RED TOADSTOOL LED NIGHT LIGHT, PLASTERS IN TI...   \n",
      "302  (SET/20 RED RETROSPOT PAPER NAPKINS, SET/6 RED...   \n",
      "300  (SET/6 RED SPOTTY PAPER PLATES, SET/20 RED RET...   \n",
      "\n",
      "                         consequents  antecedent support  consequent support  \\\n",
      "45                         (POSTAGE)            0.076531            0.765306   \n",
      "258                        (POSTAGE)            0.051020            0.765306   \n",
      "270                        (POSTAGE)            0.053571            0.765306   \n",
      "302  (SET/6 RED SPOTTY PAPER PLATES)            0.102041            0.127551   \n",
      "300    (SET/6 RED SPOTTY PAPER CUPS)            0.102041            0.137755   \n",
      "\n",
      "      support  confidence      lift  leverage  conviction  zhangs_metric  \n",
      "45   0.076531       1.000  1.306667  0.017961         inf       0.254144  \n",
      "258  0.051020       1.000  1.306667  0.011974         inf       0.247312  \n",
      "270  0.053571       1.000  1.306667  0.012573         inf       0.247978  \n",
      "302  0.099490       0.975  7.644000  0.086474   34.897959       0.967949  \n",
      "300  0.099490       0.975  7.077778  0.085433   34.489796       0.956294  \n"
     ]
    },
    {
     "name": "stderr",
     "output_type": "stream",
     "text": [
      "C:\\Users\\cclab34\\AppData\\Local\\Programs\\Python\\Python310\\lib\\site-packages\\mlxtend\\frequent_patterns\\fpcommon.py:110: DeprecationWarning: DataFrames with non-bool types result in worse computationalperformance and their support might be discontinued in the future.Please use a DataFrame with bool type\n",
      "  warnings.warn(\n"
     ]
    }
   ],
   "source": [
    "# Building the model\n",
    "frq_items = apriori(basket_France, min_support = 0.05, use_colnames = True)\n",
    "  \n",
    "# Collecting the inferred rules in a dataframe\n",
    "rules = association_rules(frq_items, metric =\"lift\", min_threshold = 1)\n",
    "rules = rules.sort_values(['confidence', 'lift'], ascending =[False, False])\n",
    "print(rules.head())"
   ]
  },
  {
   "cell_type": "code",
   "execution_count": null,
   "id": "9ef72c79",
   "metadata": {},
   "outputs": [],
   "source": []
  }
 ],
 "metadata": {
  "kernelspec": {
   "display_name": "Python 3 (ipykernel)",
   "language": "python",
   "name": "python3"
  },
  "language_info": {
   "codemirror_mode": {
    "name": "ipython",
    "version": 3
   },
   "file_extension": ".py",
   "mimetype": "text/x-python",
   "name": "python",
   "nbconvert_exporter": "python",
   "pygments_lexer": "ipython3",
   "version": "3.10.3"
  }
 },
 "nbformat": 4,
 "nbformat_minor": 5
}
