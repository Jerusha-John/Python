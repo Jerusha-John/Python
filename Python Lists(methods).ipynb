{
 "cells": [
  {
   "cell_type": "code",
   "execution_count": 5,
   "id": "a78800b9",
   "metadata": {},
   "outputs": [
    {
     "name": "stdout",
     "output_type": "stream",
     "text": [
      "['Jerusha', 'Ann', 'John']\n",
      "Jerusha\n",
      "John\n"
     ]
    }
   ],
   "source": [
    "A=[\"Jerusha\",\"Ann\",\"John\"]\n",
    "print(A)\n",
    "print(A[0])\n",
    "print(A[2])"
   ]
  },
  {
   "cell_type": "code",
   "execution_count": 26,
   "id": "2cf0d99a",
   "metadata": {},
   "outputs": [
    {
     "name": "stdout",
     "output_type": "stream",
     "text": [
      "['Jerusha', 'Ann', 'John', 2]\n",
      "['Jerusha', 'Ann', 'John', 2, [1, 3]]\n",
      "['Jerusha', 9, 'Ann', 'John', 2, [1, 3]]\n",
      "['Jerusha', 9, 'Ann', 'John', 2, [1, 3], 8, 10, 11]\n",
      "['Jerusha', 9, 'Ann', 'John', 2, [1, 3], 8, 10, 11, 'J', 'e', 'r', 'i', 'n']\n"
     ]
    }
   ],
   "source": [
    "#for adding values\n",
    "A=[\"Jerusha\",\"Ann\",\"John\"]\n",
    "A.append(2) #added at the end\n",
    "print(A)\n",
    "A.append([1,3])\n",
    "print(A)\n",
    "#A.insert(\"Jerin\",\"Jacob\") cannot add String values\n",
    "A.insert(1,9) #added in between at the specified index\n",
    "print(A)\n",
    "A.extend([8,10,11]) #extension\n",
    "print(A)\n",
    "A.extend(\"Jerin\")\n",
    "print(A)"
   ]
  },
  {
   "cell_type": "code",
   "execution_count": 18,
   "id": "30d16405",
   "metadata": {},
   "outputs": [
    {
     "data": {
      "text/plain": [
       "['Ann', 'John']"
      ]
     },
     "execution_count": 18,
     "metadata": {},
     "output_type": "execute_result"
    }
   ],
   "source": [
    "A[1:3]"
   ]
  },
  {
   "cell_type": "code",
   "execution_count": 28,
   "id": "2e5932f1",
   "metadata": {},
   "outputs": [
    {
     "data": {
      "text/plain": [
       "5"
      ]
     },
     "execution_count": 28,
     "metadata": {},
     "output_type": "execute_result"
    }
   ],
   "source": [
    "B=['J', 'e', 'r', 'i', 'n']\n",
    "len(B)"
   ]
  },
  {
   "cell_type": "code",
   "execution_count": 35,
   "id": "656bab08",
   "metadata": {},
   "outputs": [
    {
     "name": "stdout",
     "output_type": "stream",
     "text": [
      "['J', 'i']\n"
     ]
    }
   ],
   "source": [
    "#for removing values\n",
    "B.remove('e')\n",
    "print(B)\n",
    "B.pop()\n",
    "print(B)\n",
    "del B[1] #for removing the specified index\n",
    "print(B)"
   ]
  },
  {
   "cell_type": "code",
   "execution_count": 38,
   "id": "42fb7ebc",
   "metadata": {},
   "outputs": [
    {
     "name": "stdout",
     "output_type": "stream",
     "text": [
      "jerin\n",
      "jacob\n",
      "john\n"
     ]
    }
   ],
   "source": [
    "#looping in the list\n",
    "#for loop\n",
    "newList=[\"jerin\",\"jacob\",\"john\"]\n",
    "for x in newList:\n",
    "    print(x)"
   ]
  },
  {
   "cell_type": "code",
   "execution_count": 43,
   "id": "05934d67",
   "metadata": {},
   "outputs": [
    {
     "name": "stdout",
     "output_type": "stream",
     "text": [
      "jerin\n",
      "jacob\n",
      "john\n"
     ]
    }
   ],
   "source": [
    "#for i in range(newList):\n",
    "for i in range(len(newList)):\n",
    "    print(newList[i])"
   ]
  },
  {
   "cell_type": "code",
   "execution_count": 45,
   "id": "829ef071",
   "metadata": {},
   "outputs": [
    {
     "name": "stdout",
     "output_type": "stream",
     "text": [
      "jerin\n",
      "jacob\n",
      "john\n"
     ]
    }
   ],
   "source": [
    "#while loop\n",
    "newList=[\"jerin\",\"jacob\",\"john\"]\n",
    "i=0\n",
    "while i<len(newList):\n",
    "    print(newList[i])\n",
    "    i=i+1"
   ]
  },
  {
   "cell_type": "code",
   "execution_count": 47,
   "id": "ca699617",
   "metadata": {},
   "outputs": [
    {
     "name": "stdout",
     "output_type": "stream",
     "text": [
      "Jerusha\n",
      "Ann\n",
      "John\n"
     ]
    },
    {
     "data": {
      "text/plain": [
       "[None, None, None]"
      ]
     },
     "execution_count": 47,
     "metadata": {},
     "output_type": "execute_result"
    }
   ],
   "source": [
    "#Looping using list comprehension\n",
    "#List Comprehension offers the shortest syntax for looping through lists\n",
    "A=[\"Jerusha\",\"Ann\",\"John\"]\n",
    "[print(x) for x in A]"
   ]
  },
  {
   "cell_type": "code",
   "execution_count": 49,
   "id": "76e2958b",
   "metadata": {},
   "outputs": [
    {
     "name": "stdout",
     "output_type": "stream",
     "text": [
      "apple\n",
      "banana\n",
      "mango\n"
     ]
    },
    {
     "data": {
      "text/plain": [
       "[None, None, None]"
      ]
     },
     "execution_count": 49,
     "metadata": {},
     "output_type": "execute_result"
    }
   ],
   "source": [
    "fruits = [\"apple\", \"banana\", \"cherry\", \"kiwi\", \"mango\"]\n",
    "[print(x) for x in fruits if \"a\" in x] "
   ]
  },
  {
   "cell_type": "code",
   "execution_count": 53,
   "id": "b17d5836",
   "metadata": {},
   "outputs": [
    {
     "name": "stdout",
     "output_type": "stream",
     "text": [
      "['apple', 'banana', 'mango']\n"
     ]
    }
   ],
   "source": [
    "fruits = [\"apple\", \"banana\", \"cherry\", \"kiwi\", \"mango\"]\n",
    "print([x for x in fruits if \"a\" in x]) "
   ]
  },
  {
   "cell_type": "code",
   "execution_count": 54,
   "id": "9c5cec6e",
   "metadata": {},
   "outputs": [
    {
     "name": "stdout",
     "output_type": "stream",
     "text": [
      "['Merin', 'ann', 'jerusha', 'mathew']\n"
     ]
    }
   ],
   "source": [
    "#sorting items in the list\n",
    "thisList=[\"jerusha\",\"Merin\",\"ann\",\"mathew\"]\n",
    "thisList.sort()\n",
    "print(thisList)"
   ]
  },
  {
   "cell_type": "code",
   "execution_count": 55,
   "id": "380bdf4d",
   "metadata": {},
   "outputs": [
    {
     "name": "stdout",
     "output_type": "stream",
     "text": [
      "[23, 50, 65, 82, 100]\n"
     ]
    }
   ],
   "source": [
    "thislist = [100, 50, 65, 82, 23]\n",
    "thislist.sort()\n",
    "print(thislist)\n",
    "#thislist = [100, '50', 65, 82, 23] not supported between instances of 'str' and 'int'"
   ]
  },
  {
   "cell_type": "code",
   "execution_count": 57,
   "id": "620f1eb9",
   "metadata": {},
   "outputs": [
    {
     "name": "stdout",
     "output_type": "stream",
     "text": [
      "Hello from a function\n"
     ]
    }
   ],
   "source": [
    "#Functions\n",
    "def myFunction():\n",
    "    print(\"Hello from a function\")\n",
    "myFunction()"
   ]
  },
  {
   "cell_type": "code",
   "execution_count": 59,
   "id": "ffca0efa",
   "metadata": {},
   "outputs": [
    {
     "name": "stdout",
     "output_type": "stream",
     "text": [
      "Jerusha John\n",
      "Jerin John\n"
     ]
    }
   ],
   "source": [
    "#functions with arguments\n",
    "def my_func(fname,lname):\n",
    "    print(fname + \" \" + lname)\n",
    "my_func(\"Jerusha\",\"John\")\n",
    "my_func(\"Jerin\",\"John\")"
   ]
  },
  {
   "cell_type": "code",
   "execution_count": 61,
   "id": "f6ae9e65",
   "metadata": {},
   "outputs": [
    {
     "name": "stdout",
     "output_type": "stream",
     "text": [
      "The youngest child is Tobias\n"
     ]
    }
   ],
   "source": [
    "def func(*kids):  #If the number of arguments is unknown, add a * before the parameter name\n",
    "    print(\"The youngest child is \" +kids[1])\n",
    "func(\"Emil\", \"Tobias\", \"Linus\")    "
   ]
  },
  {
   "cell_type": "code",
   "execution_count": 63,
   "id": "3cac0268",
   "metadata": {},
   "outputs": [
    {
     "name": "stdout",
     "output_type": "stream",
     "text": [
      "The youngest child is Linus\n"
     ]
    }
   ],
   "source": [
    "#keyword arguments\n",
    "def my_function(child3, child2, child1):  #the order of the arguments does not matter\n",
    "  print(\"The youngest child is \" + child3)\n",
    "\n",
    "my_function(child1 = \"Emil\", child2 = \"Tobias\", child3 = \"Linus\")"
   ]
  },
  {
   "cell_type": "code",
   "execution_count": 64,
   "id": "924243a6",
   "metadata": {},
   "outputs": [
    {
     "name": "stdout",
     "output_type": "stream",
     "text": [
      "His last name is Refsnes\n"
     ]
    }
   ],
   "source": [
    "def my_function(**kid):  #If the number of keyword arguments is unknown, add a double ** before the parameter name\n",
    "  print(\"His last name is \" + kid[\"lname\"])\n",
    "\n",
    "my_function(fname = \"Tobias\", lname = \"Refsnes\")"
   ]
  },
  {
   "cell_type": "code",
   "execution_count": 65,
   "id": "7a11930d",
   "metadata": {},
   "outputs": [
    {
     "name": "stdout",
     "output_type": "stream",
     "text": [
      "I am from Sweden\n",
      "I am from India\n",
      "I am from Norway\n",
      "I am from Brazil\n"
     ]
    }
   ],
   "source": [
    "#Default parameter value\n",
    "def my_function(country = \"Norway\"):\n",
    "  print(\"I am from \" + country)\n",
    "\n",
    "my_function(\"Sweden\")\n",
    "my_function(\"India\")\n",
    "my_function()\n",
    "my_function(\"Brazil\")"
   ]
  },
  {
   "cell_type": "code",
   "execution_count": 66,
   "id": "c1e8fcde",
   "metadata": {},
   "outputs": [
    {
     "name": "stdout",
     "output_type": "stream",
     "text": [
      "apple\n",
      "banana\n",
      "cherry\n"
     ]
    }
   ],
   "source": [
    "def my_function(food):\n",
    "  for x in food:\n",
    "    print(x)\n",
    "\n",
    "fruits = [\"apple\", \"banana\", \"cherry\"]\n",
    "my_function(fruits)"
   ]
  },
  {
   "cell_type": "code",
   "execution_count": 3,
   "id": "4e369c4e",
   "metadata": {},
   "outputs": [
    {
     "name": "stdout",
     "output_type": "stream",
     "text": [
      "['a', 'b', 'c']\n",
      "['a', 'b', 'c', 50]\n",
      "['a', 'b', 'c', 50]\n"
     ]
    }
   ],
   "source": [
    "#copy lists\n",
    "list1=[\"a\",\"b\",\"c\"]\n",
    "list2=list1\n",
    "print(list2)\n",
    "list2.append(50)\n",
    "print(list1)\n",
    "print(list2)"
   ]
  },
  {
   "cell_type": "code",
   "execution_count": 6,
   "id": "c8358648",
   "metadata": {},
   "outputs": [
    {
     "name": "stdout",
     "output_type": "stream",
     "text": [
      "['a', 'b', 'c']\n",
      "['a', 'b', 'c']\n",
      "['a', 'b', 'c', 50]\n"
     ]
    }
   ],
   "source": [
    "list1=[\"a\",\"b\",\"c\"]\n",
    "list2=list1.copy()\n",
    "print(list2)\n",
    "list2.append(50)\n",
    "print(list1)\n",
    "print(list2)"
   ]
  },
  {
   "cell_type": "code",
   "execution_count": 7,
   "id": "2af180d5",
   "metadata": {},
   "outputs": [
    {
     "name": "stdout",
     "output_type": "stream",
     "text": [
      "['apple', 'banana', 'cherry']\n"
     ]
    }
   ],
   "source": [
    "thislist = [\"apple\", \"banana\", \"cherry\"]\n",
    "mylist = thislist.copy()\n",
    "print(mylist)"
   ]
  },
  {
   "cell_type": "code",
   "execution_count": 8,
   "id": "dede0d24",
   "metadata": {},
   "outputs": [
    {
     "name": "stdout",
     "output_type": "stream",
     "text": [
      "['apple', 'banana', 'cherry']\n"
     ]
    }
   ],
   "source": [
    "thislist = [\"apple\", \"banana\", \"cherry\"]\n",
    "mylist = list(thislist)\n",
    "print(mylist)"
   ]
  },
  {
   "cell_type": "code",
   "execution_count": 9,
   "id": "d5aba261",
   "metadata": {},
   "outputs": [
    {
     "name": "stdout",
     "output_type": "stream",
     "text": [
      "['a', 'b', 'c', 1, 2, 3]\n"
     ]
    }
   ],
   "source": [
    "list1 = [\"a\", \"b\", \"c\"]\n",
    "list2 = [1, 2, 3]\n",
    "\n",
    "list3 = list1 + list2\n",
    "print(list3)"
   ]
  },
  {
   "cell_type": "code",
   "execution_count": 10,
   "id": "3e4dfb8e",
   "metadata": {},
   "outputs": [
    {
     "name": "stdout",
     "output_type": "stream",
     "text": [
      "6\n"
     ]
    }
   ],
   "source": [
    "print(len(list3))"
   ]
  }
 ],
 "metadata": {
  "kernelspec": {
   "display_name": "Python 3 (ipykernel)",
   "language": "python",
   "name": "python3"
  },
  "language_info": {
   "codemirror_mode": {
    "name": "ipython",
    "version": 3
   },
   "file_extension": ".py",
   "mimetype": "text/x-python",
   "name": "python",
   "nbconvert_exporter": "python",
   "pygments_lexer": "ipython3",
   "version": "3.9.7"
  }
 },
 "nbformat": 4,
 "nbformat_minor": 5
}
