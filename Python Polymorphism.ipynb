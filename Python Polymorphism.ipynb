{
 "cells": [
  {
   "cell_type": "code",
   "execution_count": 9,
   "id": "685d1638",
   "metadata": {},
   "outputs": [
    {
     "name": "stdout",
     "output_type": "stream",
     "text": [
      "Jerusha John\n",
      "Jerin John\n"
     ]
    }
   ],
   "source": [
    "#Inheritance\n",
    "##---allows us to define a class that inherits all the methods and properties from another class\n",
    "\n",
    "\n",
    "##Create a class named Person, with firstname and lastname properties, and a printname method\n",
    "\n",
    "class Person:\n",
    "    def __init__(self,fname,lname):\n",
    "        self.firstname = fname\n",
    "        self.lastname = lname\n",
    "    def printname(self):\n",
    "        print(self.firstname,self.lastname)\n",
    "        \n",
    "x = Person(\"Jerusha\",\"John\")  \n",
    "x.printname()\n",
    "\n",
    "class PChild(Person):\n",
    "    #pass      pass keyword is used when you do not want to add any other properties or methods to the class.\n",
    "    def __init__(self,fname,lname):\n",
    "         Person.__init__(self, fname, lname)\n",
    "            \n",
    "x = PChild(\"Jerin\",\"John\")\n",
    "x.printname()"
   ]
  },
  {
   "cell_type": "code",
   "execution_count": 11,
   "id": "e3f034ec",
   "metadata": {},
   "outputs": [
    {
     "name": "stdout",
     "output_type": "stream",
     "text": [
      "Decoration\n",
      "Travel\n"
     ]
    }
   ],
   "source": [
    "#Polymorphism\n",
    "class Flower:\n",
    "    def __init__(self,name,color):\n",
    "        self.name = name\n",
    "        self.color = color\n",
    "    def use(self):\n",
    "        print(\"Decoration\")\n",
    "class Car:\n",
    "    def __init__(self,name,color):\n",
    "        self.name = name\n",
    "        self.color = color\n",
    "    def use(self):\n",
    "        print(\"Travel\")\n",
    "        \n",
    "flower1 = Flower(\"Rose\",\"Red\")\n",
    "car1 = Car(\"Ford\",\"Grey\")\n",
    "\n",
    "for x in (flower1,car1):\n",
    "    x.use()"
   ]
  },
  {
   "cell_type": "code",
   "execution_count": 18,
   "id": "b0715c04",
   "metadata": {},
   "outputs": [
    {
     "name": "stdout",
     "output_type": "stream",
     "text": [
      "{'name': 'Jerusha', 'age': 23, 'place': 'Pathanamthitta'}\n"
     ]
    }
   ],
   "source": [
    "#JSON\n",
    "##Python has a built-in package called json, which can be used to work with JSON data.\n",
    "\n",
    "##JSON to Python\n",
    "\n",
    "import json\n",
    "\n",
    "x = '{\"name\":\"Jerusha\",\"age\":23,\"place\":\"Pathanamthitta\"}'\n",
    "\n",
    "y = json.loads(x)\n",
    "\n",
    "print(y)"
   ]
  },
  {
   "cell_type": "code",
   "execution_count": 19,
   "id": "19a1a7db",
   "metadata": {},
   "outputs": [
    {
     "name": "stdout",
     "output_type": "stream",
     "text": [
      "{\"name\": \"John\", \"age\": 30, \"city\": \"New York\"}\n"
     ]
    }
   ],
   "source": [
    "#Python to JSON\n",
    "\n",
    "import json\n",
    "\n",
    "x = {\n",
    "  \"name\": \"John\",\n",
    "  \"age\": 30,\n",
    "  \"city\": \"New York\"\n",
    "}\n",
    "\n",
    "y = json.dumps(x)\n",
    "print(y)"
   ]
  },
  {
   "cell_type": "code",
   "execution_count": 21,
   "id": "6a40be0b",
   "metadata": {},
   "outputs": [],
   "source": [
    "#File Handling\n",
    "\n",
    "f = open(\"E:\\demofile.txt\",\"x\")"
   ]
  },
  {
   "cell_type": "code",
   "execution_count": null,
   "id": "79a0ce2e",
   "metadata": {},
   "outputs": [],
   "source": []
  }
 ],
 "metadata": {
  "kernelspec": {
   "display_name": "Python 3 (ipykernel)",
   "language": "python",
   "name": "python3"
  },
  "language_info": {
   "codemirror_mode": {
    "name": "ipython",
    "version": 3
   },
   "file_extension": ".py",
   "mimetype": "text/x-python",
   "name": "python",
   "nbconvert_exporter": "python",
   "pygments_lexer": "ipython3",
   "version": "3.10.3"
  }
 },
 "nbformat": 4,
 "nbformat_minor": 5
}
