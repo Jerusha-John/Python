{
 "cells": [
  {
   "cell_type": "code",
   "execution_count": 6,
   "id": "e6c4bbbe",
   "metadata": {},
   "outputs": [
    {
     "name": "stdout",
     "output_type": "stream",
     "text": [
      "Enter the first number: 12\n",
      "Enter the second number: 11\n",
      "Enter the choice: \n",
      "1.Add\n",
      "2.Subtract\n",
      "3.Multiplication\n",
      "4.Division\n",
      "1\n",
      "Their sum is  23\n"
     ]
    }
   ],
   "source": [
    "a = int(input(\"Enter the first number: \"))\n",
    "b = int(input(\"Enter the second number: \"))\n",
    "op = int(input(\"Enter the choice: \\n1.Add\\n2.Subtract\\n3.Multiplication\\n4.Division\\n\"))\n",
    "if op==1:\n",
    "    print(\"Their sum is \",a+b)\n",
    "elif op==2:\n",
    "    print(\"Their difference is \",a-b)\n",
    "elif op==3:\n",
    "    print(\"Their product is \",a*b)\n",
    "else:\n",
    "    print(\"Their quotient is \",a/b)\n",
    "    \n"
   ]
  },
  {
   "cell_type": "code",
   "execution_count": 8,
   "id": "450583f6",
   "metadata": {},
   "outputs": [
    {
     "name": "stdout",
     "output_type": "stream",
     "text": [
      "42\n"
     ]
    }
   ],
   "source": [
    "import random\n",
    "print(random.randrange(1,61))"
   ]
  }
 ],
 "metadata": {
  "kernelspec": {
   "display_name": "Python 3 (ipykernel)",
   "language": "python",
   "name": "python3"
  },
  "language_info": {
   "codemirror_mode": {
    "name": "ipython",
    "version": 3
   },
   "file_extension": ".py",
   "mimetype": "text/x-python",
   "name": "python",
   "nbconvert_exporter": "python",
   "pygments_lexer": "ipython3",
   "version": "3.9.7"
  }
 },
 "nbformat": 4,
 "nbformat_minor": 5
}
